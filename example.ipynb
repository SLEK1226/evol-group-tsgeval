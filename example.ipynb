{
 "cells": [
  {
   "cell_type": "code",
   "execution_count": null,
   "metadata": {},
   "outputs": [],
   "source": [
    "import torch\n",
    "\n",
    "from src.preprocess import *\n",
    "from src.evaluation import *"
   ]
  },
  {
   "cell_type": "markdown",
   "metadata": {},
   "source": [
    "Step1:data preprocee"
   ]
  },
  {
   "cell_type": "code",
   "execution_count": null,
   "metadata": {},
   "outputs": [],
   "source": []
  },
  {
   "cell_type": "code",
   "execution_count": null,
   "metadata": {},
   "outputs": [],
   "source": [
    "preprocess_cfg = {\n",
    "    'original_data_path': './data/raw_data/stock_data.csv',\n",
    "    'output_ori_path': './data/preprocessed_data/',\n",
    "    'dataset_name': 'stock_data.csv',\n",
    "    'use_ucr_uea_dataset': None,\n",
    "    'ucr_uea_dataset_name': None,\n",
    "    'seq_length': 24,\n",
    "    'valid_ratio': 0.1,\n",
    "    'do_normalization': True\n",
    "}\n",
    "preprocess_data(preprocess_cfg)"
   ]
  },
  {
   "cell_type": "markdown",
   "metadata": {},
   "source": [
    "Step2:建立Dataset和Dataloader"
   ]
  },
  {
   "cell_type": "code",
   "execution_count": null,
   "metadata": {},
   "outputs": [],
   "source": [
    "# 创建Dataset\n",
    "class StockDataset(torch.utils.data.Dataset):\n",
    "    def __init__(self, data_path):\n",
    "        with mgzip.open(data_path, 'rb') as file:\n",
    "            data = pickle.load(file)\n",
    "        self.data = data\n",
    "\n",
    "    def __len__(self):\n",
    "        return len(self.data)\n",
    "\n",
    "    def __getitem__(self, idx):\n",
    "        return self.data[idx]"
   ]
  },
  {
   "cell_type": "code",
   "execution_count": null,
   "metadata": {},
   "outputs": [],
   "source": [
    "StockDataset = StockDataset(data_path='./data/preprocessed_data/stock_data.csv/stock_data.csv_train.pkl')\n",
    "train_loader = torch.utils.data.DataLoader(StockDataset, batch_size=32, shuffle=True)"
   ]
  },
  {
   "cell_type": "markdown",
   "metadata": {},
   "source": [
    "Step3:导入模型"
   ]
  },
  {
   "cell_type": "markdown",
   "metadata": {},
   "source": [
    "Step4:训练"
   ]
  },
  {
   "cell_type": "markdown",
   "metadata": {},
   "source": [
    "Step5:采样"
   ]
  },
  {
   "cell_type": "markdown",
   "metadata": {},
   "source": [
    "Step6:评估"
   ]
  },
  {
   "cell_type": "code",
   "execution_count": null,
   "metadata": {},
   "outputs": [],
   "source": [
    "evaluate_cfg = {\n",
    "    'method_list': '[MDD,ACD,SD,KD,ED,DTW]',\n",
    "    'dataset_name': '',\n",
    "    'model': '',\n",
    "    'no_cuda': False,\n",
    "    'cuda_device': 0,\n",
    "    'result_path': './result/'\n",
    "}\n",
    "# 选择文件\n",
    "ori_data = np.load('./toy_exp/samples/stock_norm_truth_24_train.npy')\n",
    "gen_data = np.load('./toy_exp/ddpm_fake_stock_10.npy')\n",
    "\n",
    "ori_data = ori_data[0:100, :, :]\n",
    "gen_data = gen_data[0:100, :, :]\n",
    "evaluate_data(cfg, ori_data, gen_data)"
   ]
  }
 ],
 "metadata": {
  "kernelspec": {
   "display_name": "huggingface",
   "language": "python",
   "name": "python3"
  },
  "language_info": {
   "codemirror_mode": {
    "name": "ipython",
    "version": 3
   },
   "file_extension": ".py",
   "mimetype": "text/x-python",
   "name": "python",
   "nbconvert_exporter": "python",
   "pygments_lexer": "ipython3",
   "version": "3.9.20"
  }
 },
 "nbformat": 4,
 "nbformat_minor": 2
}
